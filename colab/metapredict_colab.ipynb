{
 "cells": [
  {
   "cell_type": "markdown",
   "id": "b815843f",
   "metadata": {},
   "source": [
    "# Batch disorder predictions using metapredict\n",
    "#### *Version 1.2* (updated 2022-30-08)\n",
    "This notebook provides a simple interface for performing batch predictions of disorder predictions using metapredict V2.\n",
    "\n",
    "More more information of how metapredict works [please see our preprint]().\n",
    "\n",
    "\n",
    "## TL/DR\n",
    "Upload a FASTA file, get a CSV file with per-residue disorder scores for the sequences. No limit on the number of sequences that can be submitted, but in general google-colab notebooks can crash...\n",
    "\n",
    "## Known issues:\n",
    "Some anti-tracking tools and other plugins designed to prevent ads will impact the the ability of the notebook to work. \n",
    "\n",
    "Known errors include:\n",
    "\n",
    "* `TypeError: google.colab._files is undefined`\n",
    "\n",
    "To diagnose this, we suggest visiting the notebook in an Incognito window, noting you'll still need to sign in.\n",
    "\n",
    "## More info\n",
    "More details at the end of this page!"
   ]
  },
  {
   "cell_type": "code",
   "execution_count": null,
   "id": "5ab71406",
   "metadata": {},
   "outputs": [],
   "source": [
    "#@title Download metapredict\n",
    "#@markdown Press play to download metapredict.\n",
    "import time\n",
    "start = time.time()\n",
    "# install then import metapredict\n",
    "!pip install metapredict --quiet\n",
    "\n",
    "# included for good measure but metapredict should have this\n",
    "# as a dependencies!\n",
    "!pip install protfasta --quiet\n",
    "import metapredict as meta\n",
    "# get stuff for getting files and what not\n",
    "from google.colab import files\n",
    "\n",
    "# import other goodies\n",
    "import re\n",
    "import os\n",
    "from random import randint\n",
    "import protfasta\n",
    "from datetime import datetime\n",
    "import time\n",
    "import numpy as np\n",
    "end = time.time()\n",
    "print(f'Packages installed and ready to go (setup took {np.round(end-start,2)} seconds)!')\n",
    "\n"
   ]
  }
 ],
 "metadata": {
  "kernelspec": {
   "display_name": "Python 3 (ipykernel)",
   "language": "python",
   "name": "python3"
  },
  "language_info": {
   "codemirror_mode": {
    "name": "ipython",
    "version": 3
   },
   "file_extension": ".py",
   "mimetype": "text/x-python",
   "name": "python",
   "nbconvert_exporter": "python",
   "pygments_lexer": "ipython3",
   "version": "3.8.12"
  }
 },
 "nbformat": 4,
 "nbformat_minor": 5
}
