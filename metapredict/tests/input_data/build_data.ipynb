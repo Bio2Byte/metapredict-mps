{
 "cells": [
  {
   "cell_type": "markdown",
   "id": "3354130f",
   "metadata": {},
   "source": [
    "## Build data\n",
    "This notebook builds the disorder npy used for comparing"
   ]
  },
  {
   "cell_type": "code",
   "execution_count": 43,
   "id": "1bdbe01a",
   "metadata": {},
   "outputs": [],
   "source": [
    "import protfasta\n",
    "import metapredict as meta\n",
    "from metapredict.backend import batch_predict"
   ]
  },
  {
   "cell_type": "code",
   "execution_count": 33,
   "id": "353312cd",
   "metadata": {},
   "outputs": [],
   "source": [
    "x = protfasta.read_fasta('test_seqs_100.fasta')\n",
    "\n",
    "disorder_scores = []\n",
    "for k in x:\n",
    "    disorder_scores.append(meta.predict_disorder(x[k], return_numpy=True))\n",
    "\n",
    "np.save('test_scores_100.npy',np.array(disorder_scores, dtype=list))"
   ]
  },
  {
   "cell_type": "code",
   "execution_count": 71,
   "id": "2d2a0354",
   "metadata": {},
   "outputs": [],
   "source": [
    "testseq = 'MATPVRDETRNVIDDNISARIQSKVKTNDTVRQTPSSLRKVSIKDEQVKQYQRNLNRFKTILNGLKAEEEKLSETDDIQMLAEKLLKLGETIDKVENRIVDLVEKIQLLETNENNNILHEHIDATGTYYLFDTLTSTNKRFYPKDCVFDYRTNNVENIPILLNNFKKFIKKYQFDDVFENDIIEIDPRENEILCKIIKEGLGESLDIMNTNTTDIFRIIDGLKNKYRSLHGRDVRIRAWEKVLVDTTCRNSALLMNKLQKLVLMEKWIFSKCCQDCPNLKDYLQEAIMGTLHESLRNSVKQRLYNIPHNVGINHEEFLINTVIETVIDLSPIADDQIENSCMYCKSVFHCSINCKKKPNRELRPDSTNFSKTYYLQGAQRQQQLKSSAKEQKSWNKTQKKSNKVYNSKKLVIIDTGSGVNITNDKTLLHNYEDSNRSTRFFGIGKNSSVSVKGYGYIKIKNGHNNTDNKCLLTYYVPEEESTIISCYDLAKKTKMVLSRKYTRLGNKIIKIKTKIVNGVIHVKMNELIERPSDDSKINAIKPTSSPGFKLNKRSITLEDAHKRMGHTGIQQIENSIKHNHYEESLDLIKEPNEFWCQTCKISKATKRNHYTGSMNNHSTDHEPGSSWCMDIFGPVSSSNADTKRYMLIMVDNNTRYCMTSTHFNKNAETILAQIRKNIQYVETQFDRKVREINSDRGTEFTNDQIEEYFISKGIHHILTSTQDHAANGRAERYIRTIVTDATTLLRQSNLRVKFWEYAVTSATNIRNCLEHKSTGKLPLKAISRQPVTVRLMSFLPFGEKGIIWNHNHKKLKPSGLPSIILCKDPNSYGYKFFIPSKNKIVTSDNYTIPNYTMDGRVRNTQNIYKSHQFSSHNDNEEDQIETVTNLCEALENYEDDNKPITRLEDLFTEEELSQIDSNAKYPSPSNNLEGDLDYVFSDVEESGDYDVESELSTTNTSISTDKNKILSNKDFNSELASTEISISEIDKKGLINTSHIDEDKYDEKVHRIPSIIQEKLVGSKNTIKINDENRISDRIRSKNIGSILNTGLSRCVDITDESITNKDESMHNAKPELIQEQFNKTNHETSFPKEGSIGTKCKIPKYRQ'\n",
    "\n"
   ]
  },
  {
   "cell_type": "code",
   "execution_count": 65,
   "id": "73e8c9c2",
   "metadata": {},
   "outputs": [],
   "source": [
    "def evenly_distribute_strings(strings, num_sublists):\n",
    "    # Calculate the number of strings per sublist\n",
    "    strings_per_sublist = len(strings) // num_sublists\n",
    "    remainder = len(strings) % num_sublists\n",
    "    \n",
    "\n",
    "    # Create the sublists\n",
    "    sublists = []\n",
    "    start = 0\n",
    "    for i in range(num_sublists):\n",
    "        print(i)\n",
    "        sublist_size = strings_per_sublist + (1 if i < remainder else 0)\n",
    "        sublist = strings[start:start+sublist_size]\n",
    "        sublists.append(sublist)\n",
    "        start += sublist_size\n",
    "\n",
    "    return sublists"
   ]
  }
 ],
 "metadata": {
  "kernelspec": {
   "display_name": "Python 3 (ipykernel)",
   "language": "python",
   "name": "python3"
  },
  "language_info": {
   "codemirror_mode": {
    "name": "ipython",
    "version": 3
   },
   "file_extension": ".py",
   "mimetype": "text/x-python",
   "name": "python",
   "nbconvert_exporter": "python",
   "pygments_lexer": "ipython3",
   "version": "3.8.12"
  }
 },
 "nbformat": 4,
 "nbformat_minor": 5
}
